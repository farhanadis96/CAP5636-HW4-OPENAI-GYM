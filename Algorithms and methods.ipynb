{
 "cells": [
  {
   "cell_type": "markdown",
   "metadata": {},
   "source": [
    "# Algorithms and Methods\n",
    "\n",
    "\n",
    "\n",
    "# Depth First Search (DFS)\n",
    "The DFS algorithm is a recursive algorithm that uses the idea of backtracking. It involves exhaustive searches of all the nodes by going ahead.The algorithm starts at the root node (selecting some arbitrary node as the root node in the case of a graph) and explores as far as possible along each branch before backtracking.This recursive nature of DFS can be implemented using stacks.\n",
    "\n",
    "# Breadth First Search (BFS)\n",
    "Breadth-first search is an algorithm for traversing or searching tree or graph data structures. It starts at the tree root, and explores all of the neighbor nodes at the present depth prior to moving on to the nodes at the next depth level.\n",
    "\n",
    "# Uniform Cost Search (UCS)\n",
    "Uniform Cost Search is the best algorithm for a search problem, which does not involve the use of heuristics. It can solve any general graph for optimal cost. Uniform Cost Search as it sounds searches in branches which are more or less the same in cost.The fringe can be implemented with a priority queue.\n",
    "\n",
    "# A* Search\n",
    "A* is a computer algorithm that is widely used in pathfinding and graph traversal, which is the process of finding a path between multiple points, called \"nodes\". It enjoys widespread use due to its performance and accuracy. A* algorithm introduces a heuristic into a regular graph-searching algorithm, essentially planning ahead at each step so a more optimal decision is made.\n",
    "\n",
    "# Dijkstra's algorithm \n",
    "Dijkstra's algorithm is an algorithm for finding the shortest paths between nodes in a graph.At every step of the algorithm, we find a vertex which is in the set and has a minimum distance from the source.\n",
    "\n",
    "# Minimax\n",
    "In Minimax the two players are called maximizer and minimizer. \n",
    "The maximizer tries to get the highest score possible while the minimizer tries to do the opposite and get the lowest score possible.\n",
    "\n",
    "# Expectimax\n",
    "Expectimax search is a search/decision-making algorithm that maximizes the average (expected) reward. \n",
    "\n",
    "# Alpha-beta pruning\n",
    "Alpha–beta pruning is a search algorithm that seeks to decrease the number of nodes that are evaluated by the minimax algorithm in its search tree. It is an adversarial search algorithm used commonly for machine playing of two-player games.\n",
    "\n",
    "# Markov decision process\n",
    "Markov Decision process(MDP) is a framework used to help to make decisions on a stochastic environment. Our goal is to find a policy, which is a map that gives us all optimal actions on each state on our environment.\n",
    "\n",
    "# Value iteration\n",
    "Value iteration includes: finding optimal value function + one policy extraction. There is no repeat of the two because once the value function is optimal, then the policy out of it should also be optimal (i.e. converged).\n",
    "\n",
    "# Policy iteration\n",
    "Policy iteration starts with a policy and iteratively improves it. It starts with an arbitrary policy π0. Policy iteration includes: policy evaluation + policy improvement, and the two are repeated iteratively until policy converges.\n",
    "\n",
    "# Reinforcement learning\n",
    "Reinforcement learning refers to goal-oriented algorithms, which learn how to attain a complex objective (goal) or maximize along a particular dimension over many steps; for example, maximize the points won in a game over many moves. \n",
    "\n",
    "# Q-learning\n",
    "Q-learning is a reinforcement learning technique used in machine learning. The goal of Q-learning is to learn a policy, which tells an agent what action to take under what circumstances. It does not require a model of the environment and can handle problems with stochastic transitions and rewards, without requiring adaptations.\n",
    "\n",
    "\n",
    "\n",
    "\n",
    "\n",
    "\n",
    "\n"
   ]
  }
 ],
 "metadata": {
  "kernelspec": {
   "display_name": "Python 3",
   "language": "python",
   "name": "python3"
  },
  "language_info": {
   "codemirror_mode": {
    "name": "ipython",
    "version": 3
   },
   "file_extension": ".py",
   "mimetype": "text/x-python",
   "name": "python",
   "nbconvert_exporter": "python",
   "pygments_lexer": "ipython3",
   "version": "3.6.6"
  }
 },
 "nbformat": 4,
 "nbformat_minor": 2
}
